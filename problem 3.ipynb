{
 "cells": [
  {
   "cell_type": "code",
   "execution_count": null,
   "metadata": {},
   "outputs": [],
   "source": [
    "#we used float() instead of int() because we want decimal/fractional values also.\n",
    "income = float(input(\"What is your monthly income?\"))\n",
    "expense = float(input(\"What is your monthly expense?\"))\n",
    "\n",
    "savings = income - expense\n",
    "\n",
    "house_price = float(input(\"What is the buying price of your desired house?\"))\n",
    "\n",
    "time = house_price//savings+1 # '//' divide till we get a lower number(value).'+1' for extra month.\n",
    "\n",
    "print(\"It will take you\", time, \"months to save enough money to buy desired house.\")"
   ]
  },
  {
   "cell_type": "code",
   "execution_count": null,
   "metadata": {},
   "outputs": [],
   "source": []
  }
 ],
 "metadata": {
  "kernelspec": {
   "display_name": "Python 3",
   "language": "python",
   "name": "python3"
  },
  "language_info": {
   "codemirror_mode": {
    "name": "ipython",
    "version": 3
   },
   "file_extension": ".py",
   "mimetype": "text/x-python",
   "name": "python",
   "nbconvert_exporter": "python",
   "pygments_lexer": "ipython3",
   "version": "3.6.4"
  }
 },
 "nbformat": 4,
 "nbformat_minor": 2
}
