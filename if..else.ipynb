{
 "cells": [
  {
   "cell_type": "markdown",
   "metadata": {},
   "source": [
    "**What are if...else statement in Python?**\n",
    "\n",
    "Decision making is required when we want to execute a code only if a certain condition is satisfied.\n",
    "The if…elif…else statement is used in Python for decision making.\n",
    "\n",
    "if condition:\n",
    "    statement(s)\n",
    "  \n",
    "    \n",
    "<img src=\"https://cdn.programiz.com/sites/tutorial2program/files/Python_if_statement.jpg\"/>\n"
   ]
  },
  {
   "cell_type": "markdown",
   "metadata": {},
   "source": [
    "Everything starts after **#** called comment, and it's generally used for instructions.\n",
    "\n",
    "\n",
    "To run the code , just click on the desired block of code and then click on **Run** button on toolbar menu."
   ]
  },
  {
   "cell_type": "code",
   "execution_count": 7,
   "metadata": {},
   "outputs": [
    {
     "name": "stdout",
     "output_type": "stream",
     "text": [
      "It is a positive number.\n"
     ]
    }
   ],
   "source": [
    "#first example\n",
    "# If the number 3 is positive, then print \"It is a positive number.\"\n",
    "\n",
    "num = 3\n",
    "if num > 0:\n",
    "    print(\"It is a positive number.\")"
   ]
  },
  {
   "cell_type": "code",
   "execution_count": 4,
   "metadata": {},
   "outputs": [
    {
     "name": "stdout",
     "output_type": "stream",
     "text": [
      "What is your age?21\n",
      "You are an adult.\n"
     ]
    }
   ],
   "source": [
    "#Second example\n",
    "#Create a python code that categorized you as a teenager or adult on the basis of your given age.\n",
    "\n",
    "age = int(input(\"What is your age?\")) #input funtion give the value in string but we need require as an interger that's why we wrapped input() function into int() funtion.\n",
    "\n",
    "if age < 18 : #if the given value is less than 18 it will print \"You are a teenager.\"\n",
    "    print(\"You are a teenager.\")\n",
    "else: #if the given is above 18 then it will print \"You are an adult.\"\n",
    "    print(\"You are an adult.\")"
   ]
  },
  {
   "cell_type": "code",
   "execution_count": 10,
   "metadata": {},
   "outputs": [
    {
     "name": "stdout",
     "output_type": "stream",
     "text": [
      "What is your age?41\n",
      "Oldie!\n"
     ]
    }
   ],
   "source": [
    "#we can you multiple conditons for that we use elif, using the above example\n",
    "\n",
    "age = int(input(\"What is your age?\")) #input funtion give the value in string but we need require as an interger that's why we wrapped input() function into int() funtion.\n",
    "\n",
    "if age < 18 : #if the given value is less than 18 it will print \"You are a teenager.\"\n",
    "    print(\"You are a teenager.\")\n",
    "elif age < 40: #if the given is above 18 but less then 40, then it will print \"You are an adult.\"\n",
    "    print(\"You are an adult.\")\n",
    "else:\n",
    "    print(\"Oldie!\")"
   ]
  },
  {
   "cell_type": "code",
   "execution_count": 15,
   "metadata": {},
   "outputs": [
    {
     "name": "stdout",
     "output_type": "stream",
     "text": [
      "What is your age?18\n",
      "You are a teenager.\n"
     ]
    }
   ],
   "source": [
    "#There is something wrong with the code , when you put the values \"18\" and \"40\" it would print out \"Oldie\", which is wrong in logical way.\n",
    "\n",
    "age = int(input(\"What is your age?\")) #input funtion give the value in string but we need require as an interger that's why we wrapped input() function into int() funtion.\n",
    "\n",
    "if age <= 18 : #if the given value is less than or equals to 18 it will print \"You are a teenager.\"\n",
    "    print(\"You are a teenager.\")\n",
    "elif age <= 40: #if the given is above 18 but less then or equals to  40, then it will print \"You are an adult.\"\n",
    "    print(\"You are an adult.\")\n",
    "else:\n",
    "    print(\"Oldie!\")\n"
   ]
  },
  {
   "cell_type": "code",
   "execution_count": 17,
   "metadata": {},
   "outputs": [
    {
     "name": "stdout",
     "output_type": "stream",
     "text": [
      "Please enter your facebook password?karachi000\n",
      "Welcome to Facebook\n"
     ]
    }
   ],
   "source": [
    "#Third Example\n",
    "#We would try to guess the password for my Facabook account, if we got succedded it would print out \"Welcome to Facebook\"  or else \"Sorry, Wrong Password!\"\n",
    "\n",
    "attempt = input(\"Please enter your facebook password?\")\n",
    "\n",
    "hamzas_password = \"karachi000\"\n",
    "\n",
    "if attempt == hamzas_password: \n",
    "    print(\"Welcome to Facebook\")\n",
    "else:\n",
    "    print(\"Sorry, Wrong Password!\")"
   ]
  },
  {
   "cell_type": "code",
   "execution_count": null,
   "metadata": {},
   "outputs": [],
   "source": []
  }
 ],
 "metadata": {
  "kernelspec": {
   "display_name": "Python 3",
   "language": "python",
   "name": "python3"
  },
  "language_info": {
   "codemirror_mode": {
    "name": "ipython",
    "version": 3
   },
   "file_extension": ".py",
   "mimetype": "text/x-python",
   "name": "python",
   "nbconvert_exporter": "python",
   "pygments_lexer": "ipython3",
   "version": "3.6.4"
  }
 },
 "nbformat": 4,
 "nbformat_minor": 2
}
