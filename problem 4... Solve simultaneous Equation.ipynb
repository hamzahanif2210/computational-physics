{
 "cells": [
  {
   "cell_type": "markdown",
   "metadata": {},
   "source": [
    "### Solve simultaneous Equation\n",
    "\n",
    "$$3x +2y +4z = 9$$\n",
    "$$2x +y  +z  =16$$\n",
    "$$3x +4y +2z =25$$\n"
   ]
  },
  {
   "cell_type": "code",
   "execution_count": null,
   "metadata": {},
   "outputs": [],
   "source": [
    "import numpy as np # to solve equation and feed matrix into variable we need to import numpy\n",
    "a=np.array([[3,2,4],[2,1,1],[3,4,2]]) #first square bracket [ means matrix, second [ means row in matrix\n",
    "print('L.H.S of equation:') #the reason to print to see what 'a' looks like\n",
    "print(a)\n",
    "print('__________________')\n",
    "print('R.H.S of equation:')\n",
    "b=np.array([9,16,25]) #only one square bracket [] means a row matrix\n",
    "print(b)\n",
    "print('__________________')\n",
    "z=np.linalg.solve(a,b) #Solves set of linear equations/matrix equation\n",
    "print(z)\n",
    "print('__________________')\n",
    "\n",
    "print('In elegent way:')\n",
    "\n",
    "print('The value of x is', z[0])\n",
    "print('the value of y is', z[1])\n",
    "print('The value of z is', z[2])\n",
    "\n",
    "#The value of x is stored in z[0] because python is zero-based-index programming language means the first value \n",
    "#will be stored in '0' index, second value in 1st index and so on...."
   ]
  },
  {
   "cell_type": "code",
   "execution_count": null,
   "metadata": {},
   "outputs": [],
   "source": []
  }
 ],
 "metadata": {
  "kernelspec": {
   "display_name": "Python 3",
   "language": "python",
   "name": "python3"
  },
  "language_info": {
   "codemirror_mode": {
    "name": "ipython",
    "version": 3
   },
   "file_extension": ".py",
   "mimetype": "text/x-python",
   "name": "python",
   "nbconvert_exporter": "python",
   "pygments_lexer": "ipython3",
   "version": "3.6.4"
  }
 },
 "nbformat": 4,
 "nbformat_minor": 2
}
